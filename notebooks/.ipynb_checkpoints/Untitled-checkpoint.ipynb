{
 "cells": [
  {
   "cell_type": "code",
   "execution_count": 120,
   "metadata": {
    "ExecuteTime": {
     "end_time": "2018-06-02T21:11:28.760791Z",
     "start_time": "2018-06-02T21:11:28.729935Z"
    },
    "run_control": {
     "frozen": false,
     "read_only": false
    }
   },
   "outputs": [],
   "source": [
    "import pandas as pd\n",
    "import pandas_profiling\n",
    "import numpy as np\n",
    "import gc\n",
    "import matplotlib.pyplot as plt\n",
    "%matplotlib inline"
   ]
  },
  {
   "cell_type": "code",
   "execution_count": 146,
   "metadata": {
    "ExecuteTime": {
     "end_time": "2018-06-02T21:59:02.056923Z",
     "start_time": "2018-06-02T21:58:26.565113Z"
    },
    "run_control": {
     "frozen": false,
     "read_only": false
    },
    "scrolled": false
   },
   "outputs": [
    {
     "name": "stdout",
     "output_type": "stream",
     "text": [
      "Preprocessing Bureau_balance.....\n",
      "one-hot encoding of credits from bureau\n",
      "Counting buro per SK_ID_CURR\n",
      "Averaging bureau\n"
     ]
    }
   ],
   "source": [
    "## Bureau and Bureau_balance\n",
    "bureau = pd.read_csv(\"../data/bureau.csv\")\n",
    "bureau_balance = pd.read_csv(\"../data/bureau_balance.csv\")\n",
    "\n",
    "\n",
    "print(\"Preprocessing Bureau_balance.....\")\n",
    "buro_counts = bureau_balance.groupby('SK_ID_BUREAU')['STATUS'].value_counts(normalize=False)\n",
    "buro_counts_unstacked = buro_counts.unstack('STATUS', fill_value=0)\n",
    "buro_counts_unstacked.columns = [\"STATUS_\" + column for column in buro_counts_unstacked.columns]\n",
    "\n",
    "\n",
    "buro_counts_unstacked['MONTHS_COUNT'] = bureau_balance.groupby('SK_ID_BUREAU')['MONTHS_BALANCE'].size()\n",
    "buro_counts_unstacked['MONTHS_MAX'] = bureau_balance.groupby('SK_ID_BUREAU')['MONTHS_BALANCE'].max()\n",
    "buro_counts_unstacked['MONTHS_MIN'] = bureau_balance.groupby('SK_ID_BUREAU')['MONTHS_BALANCE'].min()\n",
    "buro_counts_unstacked['MONTHS_MEAN'] = bureau_balance.groupby('SK_ID_BUREAU')['MONTHS_BALANCE'].mean()\n",
    "buro_counts = bureau_balance[['SK_ID_BUREAU', 'MONTHS_BALANCE']].groupby('SK_ID_BUREAU').count()\n",
    "buro_counts_unstacked['bureau_count'] = bureau_balance['SK_ID_BUREAU'].map(buro_counts['MONTHS_BALANCE'])\n",
    "\n",
    "\n",
    "bureau = bureau.join(buro_counts_unstacked, on=\"SK_ID_BUREAU\", how='left')\n",
    "del buro_counts, buro_counts_unstacked, bureau_balance\n",
    "gc.collect()\n",
    "\n",
    "\n",
    "print(\"one-hot encoding of credits from bureau\")\n",
    "bureau = pd.get_dummies(bureau, columns=['CREDIT_ACTIVE'], prefix='ca_')\n",
    "bureau = pd.get_dummies(bureau, columns=['CREDIT_CURRENCY'], prefix='cur_')\n",
    "bureau = pd.get_dummies(bureau, columns=['CREDIT_TYPE'], prefix='cty_')\n",
    "\n",
    "print('Counting buro per SK_ID_CURR')\n",
    "nb_bureau_per_curr = bureau[['SK_ID_CURR', 'SK_ID_BUREAU']].groupby('SK_ID_CURR').count()\n",
    "bureau['SK_ID_BUREAU'] = bureau['SK_ID_CURR'].map(nb_bureau_per_curr['SK_ID_BUREAU'])\n",
    "\n",
    "print(\"Averaging bureau\")\n",
    "avg_bureau = bureau.groupby('SK_ID_CURR').mean()\n",
    "\n",
    "del bureau"
   ]
  },
  {
   "cell_type": "code",
   "execution_count": 158,
   "metadata": {
    "ExecuteTime": {
     "end_time": "2018-06-02T22:22:10.733198Z",
     "start_time": "2018-06-02T22:21:50.022271Z"
    }
   },
   "outputs": [
    {
     "name": "stdout",
     "output_type": "stream",
     "text": [
      "Loading previous application...\n",
      "Preprocessing previous_application\n",
      "one-hot encoding of categorical features\n"
     ]
    },
    {
     "data": {
      "text/plain": [
       "2231"
      ]
     },
     "execution_count": 158,
     "metadata": {},
     "output_type": "execute_result"
    }
   ],
   "source": [
    "print('Loading previous application...')\n",
    "previous_application = pd.read_csv(\"../data/previous_application.csv\")\n",
    "\n",
    "print(\"Preprocessing previous_application\")\n",
    "\n",
    "print(\"one-hot encoding of categorical features\")\n",
    "prev_cat_features = [pcol for pcol in previous_application.columns if previous_application[pcol].dtype == \"object\"]\n",
    "previous_application = pd.get_dummies(previous_application, columns=prev_cat_features)\n",
    "\n",
    "\n",
    "avg_prev = previous_application.groupby('SK_ID_CURR').mean()\n",
    "cnt_prev = previous_application[['SK_ID_CURR', 'SK_ID_PREV']].groupby('SK_ID_CURR').count()\n",
    "avg_prev['nb_app'] = cnt_prev['SK_ID_PREV']\n",
    "del avg_prev['SK_ID_PREV']\n",
    "\n",
    "del previous_application, cnt_prev\n",
    "gc.collect()"
   ]
  },
  {
   "cell_type": "code",
   "execution_count": 173,
   "metadata": {
    "ExecuteTime": {
     "end_time": "2018-06-02T22:32:57.225203Z",
     "start_time": "2018-06-02T22:32:39.724179Z"
    }
   },
   "outputs": [
    {
     "name": "stdout",
     "output_type": "stream",
     "text": [
      "Reading POS_CASH...\n",
      "One-hot encoding of categorical feature\n",
      "compute number of prevs per curr\n",
      "Go to averages\n"
     ]
    },
    {
     "data": {
      "text/plain": [
       "2592"
      ]
     },
     "execution_count": 173,
     "metadata": {},
     "output_type": "execute_result"
    }
   ],
   "source": [
    "print('Reading POS_CASH...')\n",
    "pos = pd.read_csv(\"../data/POS_CASH_balance.csv\")\n",
    "\n",
    "print('One-hot encoding of categorical feature')\n",
    "pos = pd.get_dummies(pos, columns=[\"NAME_CONTRACT_STATUS\"])\n",
    "\n",
    "print('compute number of prevs per curr')\n",
    "nb_prevs = pos[['SK_ID_CURR', 'SK_ID_PREV']].groupby('SK_ID_CURR').count()\n",
    "pos['SK_ID_PREV'] = pos['SK_ID_CURR'].map(nb_prevs['SK_ID_PREV'])\n",
    "\n",
    "print('Go to averages')\n",
    "avg_pos = pos.groupby('SK_ID_CURR').mean()\n",
    "\n",
    "del pos, nb_prevs\n",
    "gc.collect()"
   ]
  },
  {
   "cell_type": "code",
   "execution_count": 188,
   "metadata": {
    "ExecuteTime": {
     "end_time": "2018-06-02T23:01:48.791671Z",
     "start_time": "2018-06-02T23:01:33.119897Z"
    }
   },
   "outputs": [
    {
     "name": "stdout",
     "output_type": "stream",
     "text": [
      "Reading credit card balance...\n",
      "One-hot encoding of categorical feature\n",
      "Compute average\n"
     ]
    },
    {
     "data": {
      "text/plain": [
       "2443"
      ]
     },
     "execution_count": 188,
     "metadata": {},
     "output_type": "execute_result"
    }
   ],
   "source": [
    "print('Reading credit card balance...')\n",
    "cc_bal = pd.read_csv('../data/credit_card_balance.csv')\n",
    "\n",
    "print('One-hot encoding of categorical feature')\n",
    "cc_bal = pd.get_dummies(cc_bal, columns=[\"NAME_CONTRACT_STATUS\"])\n",
    "\n",
    "nb_prevs = cc_bal[['SK_ID_CURR', 'SK_ID_PREV']].groupby('SK_ID_CURR').count()\n",
    "cc_bal['SK_ID_PREV'] = cc_bal['SK_ID_CURR'].map(nb_prevs['SK_ID_PREV'])\n",
    "\n",
    "print('Compute average')\n",
    "avg_cc_bal = cc_bal.groupby('SK_ID_CURR').mean()\n",
    "avg_cc_bal.columns = ['cc_bal_' + f_ for f_ in avg_cc_bal.columns]\n",
    "\n",
    "del cc_bal, nb_prevs\n",
    "gc.collect()"
   ]
  },
  {
   "cell_type": "code",
   "execution_count": 196,
   "metadata": {
    "ExecuteTime": {
     "end_time": "2018-06-02T23:08:23.910823Z",
     "start_time": "2018-06-02T23:08:07.713680Z"
    }
   },
   "outputs": [
    {
     "name": "stdout",
     "output_type": "stream",
     "text": [
      "Reading intallments payments\n",
      "Compute average\n"
     ]
    },
    {
     "data": {
      "text/plain": [
       "3816"
      ]
     },
     "execution_count": 196,
     "metadata": {},
     "output_type": "execute_result"
    }
   ],
   "source": [
    "print('Reading intallments payments')\n",
    "inst = pd.read_csv(\"../data/installments_payments.csv\")\n",
    "\n",
    "nb_prevs = inst[['SK_ID_CURR', 'SK_ID_PREV']].groupby('SK_ID_CURR').count()\n",
    "inst['SK_ID_PREV'] = inst['SK_ID_CURR'].map(nb_prevs['SK_ID_PREV'])\n",
    "\n",
    "print('Compute average')\n",
    "avg_inst = inst.groupby('SK_ID_CURR').mean()\n",
    "avg_inst.columns = ['inst_' + f_ for f_ in avg_inst.columns]\n",
    "\n",
    "del inst, nb_prevs\n",
    "gc.collect()"
   ]
  },
  {
   "cell_type": "code",
   "execution_count": 215,
   "metadata": {
    "ExecuteTime": {
     "end_time": "2018-06-02T23:28:48.820810Z",
     "start_time": "2018-06-02T23:28:44.124230Z"
    }
   },
   "outputs": [
    {
     "name": "stdout",
     "output_type": "stream",
     "text": [
      "Reading application train and test data\n",
      "Shapes:  (307511, 122) (48744, 121)\n"
     ]
    }
   ],
   "source": [
    "print(\"Reading application train and test data\")\n",
    "data = pd.read_csv(\"../data/application_train.csv\")\n",
    "test = pd.read_csv(\"../data/application_test.csv\")\n",
    "print(\"Shapes: \", data.shape, test.shape)\n",
    "\n",
    "y = data['TARGET']\n",
    "del data['TARGET']\n",
    "\n",
    "categorical_features = [f for f in data.columns if data[f].dtype=='object']\n",
    "\n",
    "for f_ in categorical_features:\n",
    "    data[f_], indexer = pd.factorize(data[f_])\n",
    "    test[f_] = indexer.get_indexer(test[f_])"
   ]
  },
  {
   "cell_type": "code",
   "execution_count": 216,
   "metadata": {
    "ExecuteTime": {
     "end_time": "2018-06-02T23:35:07.598836Z",
     "start_time": "2018-06-02T23:34:54.554288Z"
    }
   },
   "outputs": [
    {
     "name": "stdout",
     "output_type": "stream",
     "text": [
      "Merging all datasets...\n"
     ]
    },
    {
     "data": {
      "text/plain": [
       "7124"
      ]
     },
     "execution_count": 216,
     "metadata": {},
     "output_type": "execute_result"
    }
   ],
   "source": [
    "print('Merging all datasets...')\n",
    "\n",
    "\n",
    "data = data.merge(right=avg_bureau.reset_index(), how='left', on='SK_ID_CURR')\n",
    "test = test.merge(right=avg_bureau.reset_index(), how='left', on='SK_ID_CURR')\n",
    "\n",
    "data = data.merge(right=avg_prev.reset_index(), how='left', on='SK_ID_CURR')\n",
    "test = test.merge(right=avg_prev.reset_index(), how='left', on='SK_ID_CURR')\n",
    "\n",
    "data = data.merge(right=avg_pos.reset_index(), how='left', on='SK_ID_CURR')\n",
    "test = test.merge(right=avg_pos.reset_index(), how='left', on='SK_ID_CURR')\n",
    "\n",
    "data = data.merge(right=avg_cc_bal.reset_index(), how='left', on='SK_ID_CURR')\n",
    "test = test.merge(right=avg_cc_bal.reset_index(), how='left', on='SK_ID_CURR')\n",
    "\n",
    "data = data.merge(right=avg_inst.reset_index(), how='left', on='SK_ID_CURR')\n",
    "test = test.merge(right=avg_inst.reset_index(), how='left', on='SK_ID_CURR')\n",
    "\n",
    "del avg_bureau, avg_prev, avg_pos, avg_cc_bal, avg_inst\n",
    "gc.collect()"
   ]
  },
  {
   "cell_type": "code",
   "execution_count": 205,
   "metadata": {
    "ExecuteTime": {
     "end_time": "2018-06-02T23:22:39.435821Z",
     "start_time": "2018-06-02T23:22:39.431888Z"
    }
   },
   "outputs": [
    {
     "data": {
      "text/plain": [
       "['NAME_CONTRACT_TYPE',\n",
       " 'CODE_GENDER',\n",
       " 'FLAG_OWN_CAR',\n",
       " 'FLAG_OWN_REALTY',\n",
       " 'NAME_TYPE_SUITE',\n",
       " 'NAME_INCOME_TYPE',\n",
       " 'NAME_EDUCATION_TYPE',\n",
       " 'NAME_FAMILY_STATUS',\n",
       " 'NAME_HOUSING_TYPE',\n",
       " 'OCCUPATION_TYPE',\n",
       " 'WEEKDAY_APPR_PROCESS_START',\n",
       " 'ORGANIZATION_TYPE',\n",
       " 'FONDKAPREMONT_MODE',\n",
       " 'HOUSETYPE_MODE',\n",
       " 'WALLSMATERIAL_MODE',\n",
       " 'EMERGENCYSTATE_MODE']"
      ]
     },
     "execution_count": 205,
     "metadata": {},
     "output_type": "execute_result"
    }
   ],
   "source": [
    "categorical_features"
   ]
  },
  {
   "cell_type": "code",
   "execution_count": 207,
   "metadata": {
    "ExecuteTime": {
     "end_time": "2018-06-02T23:23:42.860778Z",
     "start_time": "2018-06-02T23:23:42.849488Z"
    }
   },
   "outputs": [],
   "source": [
    "_, indexer = pd.factorize(application_train['CODE_GENDER'])"
   ]
  },
  {
   "cell_type": "code",
   "execution_count": 208,
   "metadata": {
    "ExecuteTime": {
     "end_time": "2018-06-02T23:23:48.566426Z",
     "start_time": "2018-06-02T23:23:48.562564Z"
    }
   },
   "outputs": [
    {
     "data": {
      "text/plain": [
       "Index(['M', 'F', 'XNA'], dtype='object')"
      ]
     },
     "execution_count": 208,
     "metadata": {},
     "output_type": "execute_result"
    }
   ],
   "source": [
    "indexer"
   ]
  },
  {
   "cell_type": "code",
   "execution_count": 212,
   "metadata": {
    "ExecuteTime": {
     "end_time": "2018-06-02T23:24:19.911390Z",
     "start_time": "2018-06-02T23:24:19.906161Z"
    }
   },
   "outputs": [
    {
     "data": {
      "text/plain": [
       "array([2])"
      ]
     },
     "execution_count": 212,
     "metadata": {},
     "output_type": "execute_result"
    }
   ],
   "source": [
    "indexer.get_indexer(['XNA'])"
   ]
  },
  {
   "cell_type": "code",
   "execution_count": null,
   "metadata": {},
   "outputs": [],
   "source": []
  }
 ],
 "metadata": {
  "kernelspec": {
   "display_name": "Python 3",
   "language": "python",
   "name": "python3"
  },
  "language_info": {
   "codemirror_mode": {
    "name": "ipython",
    "version": 3
   },
   "file_extension": ".py",
   "mimetype": "text/x-python",
   "name": "python",
   "nbconvert_exporter": "python",
   "pygments_lexer": "ipython3",
   "version": "3.6.0"
  },
  "latex_envs": {
   "LaTeX_envs_menu_present": true,
   "autocomplete": true,
   "bibliofile": "biblio.bib",
   "cite_by": "apalike",
   "current_citInitial": 1,
   "eqLabelWithNumbers": true,
   "eqNumInitial": 1,
   "hotkeys": {
    "equation": "Ctrl-E",
    "itemize": "Ctrl-I"
   },
   "labels_anchors": false,
   "latex_user_defs": false,
   "report_style_numbering": false,
   "user_envs_cfg": false
  }
 },
 "nbformat": 4,
 "nbformat_minor": 2
}
